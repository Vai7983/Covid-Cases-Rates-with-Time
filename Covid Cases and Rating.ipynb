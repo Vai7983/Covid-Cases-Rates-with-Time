{
 "cells": [
  {
   "cell_type": "code",
   "execution_count": 2,
   "id": "2b192ea4",
   "metadata": {},
   "outputs": [],
   "source": [
    "import pandas as pd\n",
    "import numpy as np\n",
    "from sklearn import model_selection\n",
    "from sklearn.linear_model import LinearRegression\n",
    "import matplotlib.pyplot as plt"
   ]
  },
  {
   "cell_type": "code",
   "execution_count": 6,
   "id": "9a4522db",
   "metadata": {},
   "outputs": [
    {
     "data": {
      "text/html": [
       "<div>\n",
       "<style scoped>\n",
       "    .dataframe tbody tr th:only-of-type {\n",
       "        vertical-align: middle;\n",
       "    }\n",
       "\n",
       "    .dataframe tbody tr th {\n",
       "        vertical-align: top;\n",
       "    }\n",
       "\n",
       "    .dataframe thead th {\n",
       "        text-align: right;\n",
       "    }\n",
       "</style>\n",
       "<table border=\"1\" class=\"dataframe\">\n",
       "  <thead>\n",
       "    <tr style=\"text-align: right;\">\n",
       "      <th></th>\n",
       "      <th>cases</th>\n",
       "      <th>increasingrate</th>\n",
       "      <th>decreasingrate</th>\n",
       "      <th>time</th>\n",
       "    </tr>\n",
       "  </thead>\n",
       "  <tbody>\n",
       "    <tr>\n",
       "      <th>0</th>\n",
       "      <td>18</td>\n",
       "      <td>15.960</td>\n",
       "      <td>53.13</td>\n",
       "      <td>1121.87390</td>\n",
       "    </tr>\n",
       "    <tr>\n",
       "      <th>1</th>\n",
       "      <td>21</td>\n",
       "      <td>16.815</td>\n",
       "      <td>52.58</td>\n",
       "      <td>1131.50660</td>\n",
       "    </tr>\n",
       "    <tr>\n",
       "      <th>2</th>\n",
       "      <td>38</td>\n",
       "      <td>16.815</td>\n",
       "      <td>50.38</td>\n",
       "      <td>1135.94070</td>\n",
       "    </tr>\n",
       "    <tr>\n",
       "      <th>3</th>\n",
       "      <td>26</td>\n",
       "      <td>17.195</td>\n",
       "      <td>49.06</td>\n",
       "      <td>1136.39940</td>\n",
       "    </tr>\n",
       "    <tr>\n",
       "      <th>4</th>\n",
       "      <td>18</td>\n",
       "      <td>17.290</td>\n",
       "      <td>48.07</td>\n",
       "      <td>1137.01100</td>\n",
       "    </tr>\n",
       "    <tr>\n",
       "      <th>...</th>\n",
       "      <td>...</td>\n",
       "      <td>...</td>\n",
       "      <td>...</td>\n",
       "      <td>...</td>\n",
       "    </tr>\n",
       "    <tr>\n",
       "      <th>1333</th>\n",
       "      <td>46</td>\n",
       "      <td>48.070</td>\n",
       "      <td>2.30</td>\n",
       "      <td>55135.40209</td>\n",
       "    </tr>\n",
       "    <tr>\n",
       "      <th>1334</th>\n",
       "      <td>58</td>\n",
       "      <td>49.060</td>\n",
       "      <td>1.70</td>\n",
       "      <td>58571.07448</td>\n",
       "    </tr>\n",
       "    <tr>\n",
       "      <th>1335</th>\n",
       "      <td>23</td>\n",
       "      <td>50.380</td>\n",
       "      <td>1.43</td>\n",
       "      <td>60021.39897</td>\n",
       "    </tr>\n",
       "    <tr>\n",
       "      <th>1336</th>\n",
       "      <td>22</td>\n",
       "      <td>52.580</td>\n",
       "      <td>1.30</td>\n",
       "      <td>62592.87309</td>\n",
       "    </tr>\n",
       "    <tr>\n",
       "      <th>1337</th>\n",
       "      <td>18</td>\n",
       "      <td>53.130</td>\n",
       "      <td>0.90</td>\n",
       "      <td>63770.42801</td>\n",
       "    </tr>\n",
       "  </tbody>\n",
       "</table>\n",
       "<p>1338 rows × 4 columns</p>\n",
       "</div>"
      ],
      "text/plain": [
       "      cases  increasingrate  decreasingrate         time\n",
       "0        18          15.960           53.13   1121.87390\n",
       "1        21          16.815           52.58   1131.50660\n",
       "2        38          16.815           50.38   1135.94070\n",
       "3        26          17.195           49.06   1136.39940\n",
       "4        18          17.290           48.07   1137.01100\n",
       "...     ...             ...             ...          ...\n",
       "1333     46          48.070            2.30  55135.40209\n",
       "1334     58          49.060            1.70  58571.07448\n",
       "1335     23          50.380            1.43  60021.39897\n",
       "1336     22          52.580            1.30  62592.87309\n",
       "1337     18          53.130            0.90  63770.42801\n",
       "\n",
       "[1338 rows x 4 columns]"
      ]
     },
     "execution_count": 6,
     "metadata": {},
     "output_type": "execute_result"
    }
   ],
   "source": [
    "#Importing and reading file using pandas\n",
    "df = pd.read_csv(r\"C:\\Users\\vaibhav kumar\\Downloads\\lrdata.csv\" , encoding= 'unicode_escape')\n",
    "df"
   ]
  },
  {
   "cell_type": "code",
   "execution_count": 7,
   "id": "356fbd17",
   "metadata": {},
   "outputs": [
    {
     "data": {
      "text/html": [
       "<div>\n",
       "<style scoped>\n",
       "    .dataframe tbody tr th:only-of-type {\n",
       "        vertical-align: middle;\n",
       "    }\n",
       "\n",
       "    .dataframe tbody tr th {\n",
       "        vertical-align: top;\n",
       "    }\n",
       "\n",
       "    .dataframe thead th {\n",
       "        text-align: right;\n",
       "    }\n",
       "</style>\n",
       "<table border=\"1\" class=\"dataframe\">\n",
       "  <thead>\n",
       "    <tr style=\"text-align: right;\">\n",
       "      <th></th>\n",
       "      <th>cases</th>\n",
       "      <th>increasingrate</th>\n",
       "      <th>decreasingrate</th>\n",
       "      <th>time</th>\n",
       "    </tr>\n",
       "  </thead>\n",
       "  <tbody>\n",
       "    <tr>\n",
       "      <th>0</th>\n",
       "      <td>18</td>\n",
       "      <td>15.960</td>\n",
       "      <td>53.13</td>\n",
       "      <td>1121.8739</td>\n",
       "    </tr>\n",
       "    <tr>\n",
       "      <th>1</th>\n",
       "      <td>21</td>\n",
       "      <td>16.815</td>\n",
       "      <td>52.58</td>\n",
       "      <td>1131.5066</td>\n",
       "    </tr>\n",
       "    <tr>\n",
       "      <th>2</th>\n",
       "      <td>38</td>\n",
       "      <td>16.815</td>\n",
       "      <td>50.38</td>\n",
       "      <td>1135.9407</td>\n",
       "    </tr>\n",
       "    <tr>\n",
       "      <th>3</th>\n",
       "      <td>26</td>\n",
       "      <td>17.195</td>\n",
       "      <td>49.06</td>\n",
       "      <td>1136.3994</td>\n",
       "    </tr>\n",
       "    <tr>\n",
       "      <th>4</th>\n",
       "      <td>18</td>\n",
       "      <td>17.290</td>\n",
       "      <td>48.07</td>\n",
       "      <td>1137.0110</td>\n",
       "    </tr>\n",
       "  </tbody>\n",
       "</table>\n",
       "</div>"
      ],
      "text/plain": [
       "   cases  increasingrate  decreasingrate       time\n",
       "0     18          15.960           53.13  1121.8739\n",
       "1     21          16.815           52.58  1131.5066\n",
       "2     38          16.815           50.38  1135.9407\n",
       "3     26          17.195           49.06  1136.3994\n",
       "4     18          17.290           48.07  1137.0110"
      ]
     },
     "execution_count": 7,
     "metadata": {},
     "output_type": "execute_result"
    }
   ],
   "source": [
    "df.head()"
   ]
  },
  {
   "cell_type": "code",
   "execution_count": 8,
   "id": "972972fd",
   "metadata": {},
   "outputs": [],
   "source": [
    "#Using multi linear regression as the values are continuous where x are independent\n",
    "#values and y : dependent values\n",
    "y = df['time']\n",
    "x = df[['cases','increasingrate','decreasingrate']]"
   ]
  },
  {
   "cell_type": "code",
   "execution_count": 9,
   "id": "1b661990",
   "metadata": {},
   "outputs": [],
   "source": [
    "#Function named CasesReg for using linear regression model and training the model\n",
    "#with given values\n",
    "def CasesReg(x,y):\n",
    "  from sklearn.linear_model import LinearRegression\n",
    "  reg = LinearRegression()\n",
    "  reg.fit(x,y)\n",
    "  return reg"
   ]
  },
  {
   "cell_type": "code",
   "execution_count": 10,
   "id": "57922e30",
   "metadata": {},
   "outputs": [],
   "source": [
    "#train_test_split is a function in Sklearn model selection for splitting data \n",
    "#arrays into two subsets: for training data and for testing data. \n",
    "#With this function, you don't need to divide the dataset manually.\n",
    "x_train, x_test, y_train, y_test = model_selection.train_test_split(x,y)"
   ]
  },
  {
   "cell_type": "code",
   "execution_count": 11,
   "id": "35e449ef",
   "metadata": {},
   "outputs": [],
   "source": [
    "#Passing training data to my Linear regression model\n",
    "reg = CasesReg(x_train,y_train)"
   ]
  },
  {
   "cell_type": "code",
   "execution_count": 13,
   "id": "8b51d955",
   "metadata": {},
   "outputs": [],
   "source": [
    "#Using predict to get predicted values of y\n",
    "y_pred = reg.predict(x_test)\n",
    "y_pred"
   ]
  },
  {
   "cell_type": "code",
   "execution_count": 14,
   "id": "26735925",
   "metadata": {},
   "outputs": [
    {
     "data": {
      "text/plain": [
       "0.8587376429100138"
      ]
     },
     "execution_count": 14,
     "metadata": {},
     "output_type": "execute_result"
    }
   ],
   "source": [
    "#Calculating efficiency. It internally calculates y_pred again and gives the \n",
    "#efficiency\n",
    "reg.score(x_test,y_test)"
   ]
  },
  {
   "cell_type": "code",
   "execution_count": 15,
   "id": "0ed0284c",
   "metadata": {},
   "outputs": [
    {
     "data": {
      "image/png": "[encoded data removed]",
      "text/plain": [
       "<Figure size 432x288 with 1 Axes>"
      ]
     },
     "metadata": {
      "needs_background": "light"
     },
     "output_type": "display_data"
    }
   ],
   "source": [
    "#Plotting graph using matplotlib.\n",
    "plt.plot(x,reg.predict(x),'*')\n",
    "plt.legend(labels=['cases','increasingrate','decreasingrate'])\n",
    "plt.xlabel(\"Cases Rate\")\n",
    "plt.ylabel(\"Time\")\n",
    "plt.show()"
   ]
  }
 ],
 "metadata": {
  "kernelspec": {
   "display_name": "Python 3 (ipykernel)",
   "language": "python",
   "name": "python3"
  },
  "language_info": {
   "codemirror_mode": {
    "name": "ipython",
    "version": 3
   },
   "file_extension": ".py",
   "mimetype": "text/x-python",
   "name": "python",
   "nbconvert_exporter": "python",
   "pygments_lexer": "ipython3",
   "version": "3.9.7"
  }
 },
 "nbformat": 4,
 "nbformat_minor": 5
}
